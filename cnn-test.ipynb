{
 "cells": [
  {
   "cell_type": "code",
   "execution_count": 18,
   "id": "11592114",
   "metadata": {},
   "outputs": [],
   "source": [
    "import numpy as np\n",
    "\n",
    "def conv2d(image, kernel, stride=1):\n",
    "    kernel_size = kernel.shape[0]\n",
    "    output_size = (image.shape[0] - kernel_size) // stride + 1\n",
    "    output = np.zeros((output_size, output_size))\n",
    "    \n",
    "    for y in range(0, output_size):\n",
    "        for x in range(0, output_size):\n",
    "            region = image[y:y+kernel_size, x:x+kernel_size]\n",
    "            output[y, x] = np.sum(region * kernel)\n",
    "    \n",
    "    return output"
   ]
  },
  {
   "cell_type": "code",
   "execution_count": 19,
   "id": "a1f72859",
   "metadata": {},
   "outputs": [],
   "source": [
    "def relu(feature_map):\n",
    "    return np.maximum(0, feature_map)"
   ]
  },
  {
   "cell_type": "code",
   "execution_count": 20,
   "id": "c172e728",
   "metadata": {},
   "outputs": [],
   "source": [
    "def max_pooling(feature_map, size=2, stride=2):\n",
    "    h, w = feature_map.shape\n",
    "    output_h = (h - size) // stride + 1\n",
    "    output_w = (w - size) // stride + 1\n",
    "    output = np.zeros((output_h, output_w))\n",
    "    \n",
    "    for y in range(output_h):\n",
    "        for x in range(output_w):\n",
    "            region = feature_map[y*stride:y*stride+size, x*stride:x*stride+size]\n",
    "            output[y, x] = np.max(region)\n",
    "    \n",
    "    return output"
   ]
  },
  {
   "cell_type": "code",
   "execution_count": 21,
   "id": "e9baa5bf",
   "metadata": {},
   "outputs": [],
   "source": [
    "def softmax(x):\n",
    "    e_x = np.exp(x - np.max(x))\n",
    "    return e_x / e_x.sum()"
   ]
  },
  {
   "cell_type": "code",
   "execution_count": 22,
   "id": "20c49b6b",
   "metadata": {},
   "outputs": [],
   "source": [
    "def cross_entropy(pred, label):\n",
    "    return -np.log(pred[label] + 1e-9)"
   ]
  },
  {
   "cell_type": "code",
   "execution_count": 23,
   "id": "128059ac",
   "metadata": {},
   "outputs": [],
   "source": [
    "class SimpleCNN:\n",
    "    def __init__(self):\n",
    "        # Init random kernels (3x3)\n",
    "        self.kernel = np.random.randn(3, 3) * 0.1\n",
    "        self.fc_weights = np.random.randn(225, 3) * 0.1  # 15x15 output dari pooling\n",
    "        \n",
    "    def forward(self, image):\n",
    "        self.conv_out = conv2d(image, self.kernel)\n",
    "        self.relu_out = relu(self.conv_out)\n",
    "        self.pool_out = max_pooling(self.relu_out)\n",
    "        self.flat = self.pool_out.flatten()\n",
    "        self.fc_out = np.dot(self.flat, self.fc_weights)\n",
    "        self.out = softmax(self.fc_out)\n",
    "        return self.out\n",
    "\n",
    "    def backward(self, image, label, lr=0.01):\n",
    "        # Forward pass\n",
    "        output = self.forward(image)\n",
    "        loss = cross_entropy(output, label)\n",
    "\n",
    "        # Grad for fully connected\n",
    "        d_out = output\n",
    "        d_out[label] -= 1  # dL/dy_pred\n",
    "\n",
    "        d_fc_weights = np.outer(self.flat, d_out)\n",
    "        self.fc_weights -= lr * d_fc_weights\n",
    "\n",
    "        # Grad untuk kernel dll bisa ditambahkan (cukup rumit tapi bisa)\n",
    "        return loss"
   ]
  },
  {
   "cell_type": "code",
   "execution_count": 24,
   "id": "a38ea53e",
   "metadata": {},
   "outputs": [],
   "source": [
    "import os\n",
    "import cv2\n",
    "\n",
    "def load_images(folder, label, size=(32, 32)):\n",
    "    data = []\n",
    "    for fname in os.listdir(folder):\n",
    "        path = os.path.join(folder, fname)\n",
    "        img = cv2.imread(path, cv2.IMREAD_GRAYSCALE)\n",
    "        if img is None:\n",
    "            print(f\"⚠️ Gagal baca gambar: {path}\")\n",
    "            continue  # skip file ini kalau nggak bisa dibaca\n",
    "        img = cv2.resize(img, size)\n",
    "        img = img / 255.0  # normalize\n",
    "        data.append((img, label))\n",
    "    return data"
   ]
  },
  {
   "cell_type": "code",
   "execution_count": 25,
   "id": "cc5d003e",
   "metadata": {},
   "outputs": [
    {
     "name": "stdout",
     "output_type": "stream",
     "text": [
      "⚠️ Gagal baca gambar: data/sedih\\crying-sad.gif\n"
     ]
    }
   ],
   "source": [
    "model = SimpleCNN()\n",
    "\n",
    "# Load dataset\n",
    "data = load_images(\"data/senang\", 0) + load_images(\"data/sedih\", 1) + load_images(\"data/marah\", 2)\n",
    "np.random.shuffle(data)"
   ]
  },
  {
   "cell_type": "code",
   "execution_count": 26,
   "id": "0eb2fcaa",
   "metadata": {},
   "outputs": [
    {
     "name": "stdout",
     "output_type": "stream",
     "text": [
      "Epoch 1, Loss: 290.6377\n",
      "Epoch 2, Loss: 289.9374\n",
      "Epoch 3, Loss: 289.2584\n",
      "Epoch 4, Loss: 288.5995\n",
      "Epoch 5, Loss: 287.9595\n",
      "Epoch 6, Loss: 287.3372\n",
      "Epoch 7, Loss: 286.7316\n",
      "Epoch 8, Loss: 286.1418\n",
      "Epoch 9, Loss: 285.5669\n",
      "Epoch 10, Loss: 285.0060\n"
     ]
    }
   ],
   "source": [
    "# Train\n",
    "for epoch in range(10):\n",
    "    total_loss = 0\n",
    "    for img, label in data:\n",
    "        loss = model.backward(img, label)\n",
    "        total_loss += loss\n",
    "    print(f\"Epoch {epoch+1}, Loss: {total_loss:.4f}\")"
   ]
  }
 ],
 "metadata": {
  "kernelspec": {
   "display_name": "Python 3",
   "language": "python",
   "name": "python3"
  },
  "language_info": {
   "codemirror_mode": {
    "name": "ipython",
    "version": 3
   },
   "file_extension": ".py",
   "mimetype": "text/x-python",
   "name": "python",
   "nbconvert_exporter": "python",
   "pygments_lexer": "ipython3",
   "version": "3.12.8"
  }
 },
 "nbformat": 4,
 "nbformat_minor": 5
}
